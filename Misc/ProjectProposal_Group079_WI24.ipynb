{
 "cells": [
  {
   "cell_type": "markdown",
   "metadata": {},
   "source": [
    "# COGS 108 - Project Proposal"
   ]
  },
  {
   "cell_type": "markdown",
   "metadata": {},
   "source": [
    "# Names\n",
    "\n",
    "- Fadi Ballou\n",
    "- Amina Yussuf\n",
    "- Jill Nomura\n",
    "- Larry Mei\n",
    "- Minh Vo"
   ]
  },
  {
   "cell_type": "markdown",
   "metadata": {},
   "source": [
    "# Research Question"
   ]
  },
  {
   "cell_type": "markdown",
   "metadata": {},
   "source": [
    "At UCSD, what is the grade you will expect from taking a certain course and is this GPA affected by what quarter you take?"
   ]
  },
  {
   "cell_type": "markdown",
   "metadata": {},
   "source": [
    "## Background and Prior Work"
   ]
  },
  {
   "cell_type": "markdown",
   "metadata": {},
   "source": [
    "\n",
    "We were curious about a correlation between professor ratings and income with the average received grade. We want to try to create a model that can take in a professor’s rating and create a prediction of the expected average grade from that course. We hope to potentially take into consideration a professor’s rating and income to try to find a correlation between that and previous average grades. The idea of this is to be an added resource for students when choosing their courses and professors for each coming quarter/semester. They can learn about each professor and get an understanding of whether this professor is one they want to take or not, which can be a crucial aspect for a student’s quarter.\n",
    "\n",
    "In a study by Colleen Flaherty called No Satisfaction on Student Ratings of Instruction, she looked at who rated the course/professor and the extent of their rating. This is a potential confound in our project as this work concluded that there was a correlation between grade received and review given. Flaherty found that “students who receive better grades tend to report a subjectively more positive experience in their courses, regardless of the underlying reasons that led to their high performance” <a name=\"cite_ref-1\"></a>[<sup>1</sup>](#cite_note-1) and vice versa. This brings up a potential bias as a student’s success or failure isn’t always a consequence of the professor. **By encompassing the professors’ income, we hope that this creates a more accurate model by eliminating some bias.**\n",
    "\n",
    "The COGS 108 Winter 2021 Group 46 project was one in which they looked at analyzing course difficulty and professor ratings. They examined the average GPA and the hours put into work related for that course each week in order to determine the level of difficulty where they concluded “unlike what we have guessed, students at UCSD are generally not biased by the difficulty of the course when trying to evaluate the teaching performance of their instructors” <a name=\"cite_ref-2\"></a>[<sup>2</sup>](#cite_note-2). We plan to take things in a different direction using the same dataset. **However, our intentions are to try to create a model that can predict the expected grade. By gathering the data of all the previous quarters that a professor taught that course, their ratings during each quarter, average GPA, expected GPA, and their salary, we plan on creating a model for future quarters on the same course for each professor.**\n",
    "\n",
    "References:\n",
    "\n",
    "1. <a name=\"cite_note-1\"></a> [^](#cite_ref-1)https://www.insidehighered.com/news/2022/01/19/study-grade-satisfaction-major-factor-student-evals\n",
    "\n",
    "2. <a name=\"cite_note-2\"></a> [^](#cite_ref-2)https://github.com/COGS108/FinalProjects-Wi21/blob/main/FinalProject_group046.ipynb\n"
   ]
  },
  {
   "cell_type": "markdown",
   "metadata": {},
   "source": [
    "# Hypothesis\n"
   ]
  },
  {
   "cell_type": "markdown",
   "metadata": {},
   "source": [
    "Prediction: We believe information such as course name, professor name, and when the course was held (year and quarter), professor name, professor income, professor rating from the students, professor department,  and number of students taking the course is a good variable that help us accurately predict the GPA\n",
    "Hypothesis: We hypothesize that the GPA you get is not affected by which quarter you are taking these courses. \n"
   ]
  },
  {
   "cell_type": "markdown",
   "metadata": {},
   "source": [
    "# Data"
   ]
  },
  {
   "cell_type": "markdown",
   "metadata": {},
   "source": [
    "1. In order to proceed with this hypothesis and prediction, our group agreed that we must have variables such as GPA for taking a course, course name, professor name, and when the course was held (year and quarter) as a bare minimum. On top of this attribute, our group came up with more attributes that can possibly help us improve the prediction model. These variables include professor rating from the students,  professor income, and number of students taking the course. \n",
    "\n",
    "In terms of number of observations, our team agreed on about 8,000,000 - 12,000,000 observations. This number came from our agreement that we would like approximately 10 years of data and learning that UCSD offers approximately 4000 courses, assuming each being taught around 2-3 times throughout the school year with an approximate of 100 students per course, that will result in about 8,000,000 to 12,000,000 data. \n",
    "In order to collect such information, we need to take a survey from each student that actually took these classes. \n",
    "\n",
    "In order to organize such massive data, we would consider storing these in the relational database. Since many observations share a common value (such as professor name, course name, etc) we should rather have multiple tables that are connected together by the foreign key and access to these data by SQL. \n",
    "\n",
    "2. While we ideally want data mentioned above for our project, these were the data we found access to. \n",
    "\n",
    "[UCSD CAPES DATASET](https://www.kaggle.com/datasets/sanbornpnguyen/ucsdcapes?utm_medium=social&utm_campaign=kaggle-dataset-share)\n",
    "This dataset posted on kaggle consists of all the CAPES Response that is recorded from 2007 to 2023. There are 63,000 observations recorded, which is smaller than our ideal, but this is most likely due to the fact that capes aggregate the response from all the students and present the average response. Ideally, we would like to have data of individual students, but aggregated data is all we had and thinking about the ethical standpoint of keeping the privacy of students, we agreed that aggregate data is enough to proceed this project. \n",
    "\n",
    "[Income Database](https://ucannualwage.ucop.edu/wage/)\n",
    "This website presents the information of how much each professor from UC University gets paid and you can filter them by specific universities, name, year, or title. In order to actually obtain these data as a dataset, we must scrape the website and retrieve the relevant information. This data is recorded from 2010-2022 and we will use Selenium, BeautifulSoup, Web driver to scrape this information into one dataframe. \n"
   ]
  },
  {
   "cell_type": "markdown",
   "metadata": {},
   "source": [
    "# Ethics & Privacy"
   ]
  },
  {
   "cell_type": "markdown",
   "metadata": {},
   "source": [
    "With the CAPES data we proposed, there seems to be no terms of use issues with the data as CAPES was a voluntary survey offered to students. The vast majority of classes have a very high percentage of CAPES participation and we have an adequate amount of data to make reliable inferences. However, there may be potential biases with our data. Often times, professors would offer a small amount of extra credit or some other incentive if a certain percentage of the class completes CAPES. This could create a bias toward students who care more about their grade which could lead to an inaccurate representation of the entire student body taking that class. Also, since our data is collected from a voluntary survey, the types of students that have a very positive or negative experience with the class would be more incentivized to voluntarily fill out CAPES. In summary, because of the way the data is collected and external incentives that may manipulate the data, our data may not be representative of all students’ experiences of the class.\n",
    "\n",
    "As for potential biases during and after our analysis, there could be potential problems with exposing sensitive data about professors. When we are scraping the UCSD staff income database, we must make sure to only fetch attributes that do not breach the privacy of professors. So far we have fetched professor name, department, and gross pay. We must be aware during our exploratory data analysis to ensure the privacy of professors by avoiding any analysis that could breach professors’ personal information. When we are constructing our prediction model, we also have to be transparent about how the model’s predictions are made exactly and also how each attribute weighs on the model’s prediction. We also have a way to measure bias of our model through root mean squared error (RMSE).\n"
   ]
  },
  {
   "cell_type": "markdown",
   "metadata": {},
   "source": [
    "# Team Expectations "
   ]
  },
  {
   "cell_type": "markdown",
   "metadata": {},
   "source": [
    "We communicate using a discord group chat. Whenever anyone has a question or issue, we talk about it briefly in the group chat. \n",
    "\n",
    "* Meet as a group at least once a week \n",
    "* If for any reason you can’t complete the work assigned to you or can’t attend a meeting let the group know as soon as possible \n",
    "* Everyone shall be assigned equal amounts of work to complete\n"
   ]
  },
  {
   "cell_type": "markdown",
   "metadata": {},
   "source": [
    "# Project Timeline Proposal"
   ]
  },
  {
   "cell_type": "markdown",
   "metadata": {},
   "source": [
    "\n",
    "\n",
    "| Meeting Date  | Meeting Time| Completed Before Meeting  | Discuss at Meeting |\n",
    "|---|---|---|---|\n",
    "| 1/31  |  11 AM | Read through the different projects to review  | We created a doc where we reviewed previous projects and filled out the form for the assignment that week | \n",
    "| 2/5  |  11 AM |  Do background research on different topics | Determine which topic we want to go with for the project. Review the datasets that we found and additional data sets. Start filling out the proposal form | \n",
    "| 2/7  | 11 AM  | Do our own research on the different parts of the propsal  | Present our respected parts for the proposal and fill out the form as a group. Review it and submit it. |\n",
    "| 2/12 & 2/14  | 11 AM  | Discuss and Import, Wrangle the Data | Make sure the data fits our hypothesis and question. Start plotting it and visualizing the effects of the data   |\n",
    "| 2/26 & 2/28  | 11 AM  | Prepare for checkpoint #2 | Discuss the Analysis Plan. Start working on analysis and make progress on answering our research question  |\n",
    "| 3/11 & 3/13  | 11 AM  | Complete our individual parts for analysis and discussion | Go over our work and discuss finishing touches as a team. Draw our conclussion and put together final presentation |\n",
    "| 3/15 & 3/18 | 11 AM  | Finish the paper | Complete our team video presentation and get ready to submit before the 20th |"
   ]
  }
 ],
 "metadata": {
  "kernelspec": {
   "display_name": "Python 3 (ipykernel)",
   "language": "python",
   "name": "python3"
  },
  "language_info": {
   "codemirror_mode": {
    "name": "ipython",
    "version": 3
   },
   "file_extension": ".py",
   "mimetype": "text/x-python",
   "name": "python",
   "nbconvert_exporter": "python",
   "pygments_lexer": "ipython3",
   "version": "3.10.4"
  }
 },
 "nbformat": 4,
 "nbformat_minor": 4
}
