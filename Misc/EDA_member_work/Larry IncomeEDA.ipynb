{
  "cells": [
    {
      "cell_type": "code",
      "execution_count": 2,
      "id": "3e04259a",
      "metadata": {
        "id": "3e04259a"
      },
      "outputs": [],
      "source": [
        "import pandas as pd\n",
        "import numpy as np\n",
        "import matplotlib as mpl\n",
        "import matplotlib.pyplot as plt\n",
        "import matplotlib.style as style\n",
        "import seaborn as sns\n",
        "import time\n",
        "import requests\n",
        "import json\n",
        "import time"
      ]
    },
    {
      "cell_type": "code",
      "execution_count": 5,
      "id": "55810831",
      "metadata": {
        "colab": {
          "base_uri": "https://localhost:8080/",
          "height": 423
        },
        "id": "55810831",
        "outputId": "e25d206b-dce2-48d1-ad17-d7ca78d64498"
      },
      "outputs": [
        {
          "output_type": "execute_result",
          "data": {
            "text/plain": [
              "        Unnamed: 0  Year        First Name  Last Name  \\\n",
              "0            12350  2010      ERNEST L III      AARON   \n",
              "1            12351  2010           LOIS M.      AARON   \n",
              "2            12352  2010        GREGORY A.     AARONS   \n",
              "3            12353  2010         CHARLES O       ABAD   \n",
              "4            12354  2010  CONCEPCION ABUTI       ABAD   \n",
              "...            ...   ...               ...        ...   \n",
              "362645      548579  2022            THOMAS       ZUST   \n",
              "362646      548580  2022          MARGARET   ZVIRZDIN   \n",
              "362647      548581  2022              JANE  ZWERNEMAN   \n",
              "362648      548582  2022             MEGAN    ZYNKIAN   \n",
              "362649      548583  2022             COLIN  ZYSKOWSKI   \n",
              "\n",
              "                             Job Title     Income  \n",
              "0          TECHNICIAN, DEVELOPMENT, IV   65210.90  \n",
              "1       TRANSLATOR/INTERP FOR THE DEAF    1891.54  \n",
              "2          ASSOCIATE PROF IN RES-HCOMP  170724.59  \n",
              "3        TECHNICIAN,PATIENT DIALYSI, I   45102.64  \n",
              "4                  CLERK, SR/SECRETARY   29320.17  \n",
              "...                                ...        ...  \n",
              "362645                     ELECTR TCHN   68109.00  \n",
              "362646           PAT RCDS ABSTRACTOR 3   94538.00  \n",
              "362647                     BLANK AST 3   90684.00  \n",
              "362648                    CLIN NURSE 3  117645.00  \n",
              "362649             RSCH AND DEV ENGR 4   95334.00  \n",
              "\n",
              "[362650 rows x 6 columns]"
            ],
            "text/html": [
              "\n",
              "  <div id=\"df-ba066fbf-e05d-4eb4-af6a-251a0105aa1e\" class=\"colab-df-container\">\n",
              "    <div>\n",
              "<style scoped>\n",
              "    .dataframe tbody tr th:only-of-type {\n",
              "        vertical-align: middle;\n",
              "    }\n",
              "\n",
              "    .dataframe tbody tr th {\n",
              "        vertical-align: top;\n",
              "    }\n",
              "\n",
              "    .dataframe thead th {\n",
              "        text-align: right;\n",
              "    }\n",
              "</style>\n",
              "<table border=\"1\" class=\"dataframe\">\n",
              "  <thead>\n",
              "    <tr style=\"text-align: right;\">\n",
              "      <th></th>\n",
              "      <th>Unnamed: 0</th>\n",
              "      <th>Year</th>\n",
              "      <th>First Name</th>\n",
              "      <th>Last Name</th>\n",
              "      <th>Job Title</th>\n",
              "      <th>Income</th>\n",
              "    </tr>\n",
              "  </thead>\n",
              "  <tbody>\n",
              "    <tr>\n",
              "      <th>0</th>\n",
              "      <td>12350</td>\n",
              "      <td>2010</td>\n",
              "      <td>ERNEST L III</td>\n",
              "      <td>AARON</td>\n",
              "      <td>TECHNICIAN, DEVELOPMENT, IV</td>\n",
              "      <td>65210.90</td>\n",
              "    </tr>\n",
              "    <tr>\n",
              "      <th>1</th>\n",
              "      <td>12351</td>\n",
              "      <td>2010</td>\n",
              "      <td>LOIS M.</td>\n",
              "      <td>AARON</td>\n",
              "      <td>TRANSLATOR/INTERP FOR THE DEAF</td>\n",
              "      <td>1891.54</td>\n",
              "    </tr>\n",
              "    <tr>\n",
              "      <th>2</th>\n",
              "      <td>12352</td>\n",
              "      <td>2010</td>\n",
              "      <td>GREGORY A.</td>\n",
              "      <td>AARONS</td>\n",
              "      <td>ASSOCIATE PROF IN RES-HCOMP</td>\n",
              "      <td>170724.59</td>\n",
              "    </tr>\n",
              "    <tr>\n",
              "      <th>3</th>\n",
              "      <td>12353</td>\n",
              "      <td>2010</td>\n",
              "      <td>CHARLES O</td>\n",
              "      <td>ABAD</td>\n",
              "      <td>TECHNICIAN,PATIENT DIALYSI, I</td>\n",
              "      <td>45102.64</td>\n",
              "    </tr>\n",
              "    <tr>\n",
              "      <th>4</th>\n",
              "      <td>12354</td>\n",
              "      <td>2010</td>\n",
              "      <td>CONCEPCION ABUTI</td>\n",
              "      <td>ABAD</td>\n",
              "      <td>CLERK, SR/SECRETARY</td>\n",
              "      <td>29320.17</td>\n",
              "    </tr>\n",
              "    <tr>\n",
              "      <th>...</th>\n",
              "      <td>...</td>\n",
              "      <td>...</td>\n",
              "      <td>...</td>\n",
              "      <td>...</td>\n",
              "      <td>...</td>\n",
              "      <td>...</td>\n",
              "    </tr>\n",
              "    <tr>\n",
              "      <th>362645</th>\n",
              "      <td>548579</td>\n",
              "      <td>2022</td>\n",
              "      <td>THOMAS</td>\n",
              "      <td>ZUST</td>\n",
              "      <td>ELECTR TCHN</td>\n",
              "      <td>68109.00</td>\n",
              "    </tr>\n",
              "    <tr>\n",
              "      <th>362646</th>\n",
              "      <td>548580</td>\n",
              "      <td>2022</td>\n",
              "      <td>MARGARET</td>\n",
              "      <td>ZVIRZDIN</td>\n",
              "      <td>PAT RCDS ABSTRACTOR 3</td>\n",
              "      <td>94538.00</td>\n",
              "    </tr>\n",
              "    <tr>\n",
              "      <th>362647</th>\n",
              "      <td>548581</td>\n",
              "      <td>2022</td>\n",
              "      <td>JANE</td>\n",
              "      <td>ZWERNEMAN</td>\n",
              "      <td>BLANK AST 3</td>\n",
              "      <td>90684.00</td>\n",
              "    </tr>\n",
              "    <tr>\n",
              "      <th>362648</th>\n",
              "      <td>548582</td>\n",
              "      <td>2022</td>\n",
              "      <td>MEGAN</td>\n",
              "      <td>ZYNKIAN</td>\n",
              "      <td>CLIN NURSE 3</td>\n",
              "      <td>117645.00</td>\n",
              "    </tr>\n",
              "    <tr>\n",
              "      <th>362649</th>\n",
              "      <td>548583</td>\n",
              "      <td>2022</td>\n",
              "      <td>COLIN</td>\n",
              "      <td>ZYSKOWSKI</td>\n",
              "      <td>RSCH AND DEV ENGR 4</td>\n",
              "      <td>95334.00</td>\n",
              "    </tr>\n",
              "  </tbody>\n",
              "</table>\n",
              "<p>362650 rows × 6 columns</p>\n",
              "</div>\n",
              "    <div class=\"colab-df-buttons\">\n",
              "\n",
              "  <div class=\"colab-df-container\">\n",
              "    <button class=\"colab-df-convert\" onclick=\"convertToInteractive('df-ba066fbf-e05d-4eb4-af6a-251a0105aa1e')\"\n",
              "            title=\"Convert this dataframe to an interactive table.\"\n",
              "            style=\"display:none;\">\n",
              "\n",
              "  <svg xmlns=\"http://www.w3.org/2000/svg\" height=\"24px\" viewBox=\"0 -960 960 960\">\n",
              "    <path d=\"M120-120v-720h720v720H120Zm60-500h600v-160H180v160Zm220 220h160v-160H400v160Zm0 220h160v-160H400v160ZM180-400h160v-160H180v160Zm440 0h160v-160H620v160ZM180-180h160v-160H180v160Zm440 0h160v-160H620v160Z\"/>\n",
              "  </svg>\n",
              "    </button>\n",
              "\n",
              "  <style>\n",
              "    .colab-df-container {\n",
              "      display:flex;\n",
              "      gap: 12px;\n",
              "    }\n",
              "\n",
              "    .colab-df-convert {\n",
              "      background-color: #E8F0FE;\n",
              "      border: none;\n",
              "      border-radius: 50%;\n",
              "      cursor: pointer;\n",
              "      display: none;\n",
              "      fill: #1967D2;\n",
              "      height: 32px;\n",
              "      padding: 0 0 0 0;\n",
              "      width: 32px;\n",
              "    }\n",
              "\n",
              "    .colab-df-convert:hover {\n",
              "      background-color: #E2EBFA;\n",
              "      box-shadow: 0px 1px 2px rgba(60, 64, 67, 0.3), 0px 1px 3px 1px rgba(60, 64, 67, 0.15);\n",
              "      fill: #174EA6;\n",
              "    }\n",
              "\n",
              "    .colab-df-buttons div {\n",
              "      margin-bottom: 4px;\n",
              "    }\n",
              "\n",
              "    [theme=dark] .colab-df-convert {\n",
              "      background-color: #3B4455;\n",
              "      fill: #D2E3FC;\n",
              "    }\n",
              "\n",
              "    [theme=dark] .colab-df-convert:hover {\n",
              "      background-color: #434B5C;\n",
              "      box-shadow: 0px 1px 3px 1px rgba(0, 0, 0, 0.15);\n",
              "      filter: drop-shadow(0px 1px 2px rgba(0, 0, 0, 0.3));\n",
              "      fill: #FFFFFF;\n",
              "    }\n",
              "  </style>\n",
              "\n",
              "    <script>\n",
              "      const buttonEl =\n",
              "        document.querySelector('#df-ba066fbf-e05d-4eb4-af6a-251a0105aa1e button.colab-df-convert');\n",
              "      buttonEl.style.display =\n",
              "        google.colab.kernel.accessAllowed ? 'block' : 'none';\n",
              "\n",
              "      async function convertToInteractive(key) {\n",
              "        const element = document.querySelector('#df-ba066fbf-e05d-4eb4-af6a-251a0105aa1e');\n",
              "        const dataTable =\n",
              "          await google.colab.kernel.invokeFunction('convertToInteractive',\n",
              "                                                    [key], {});\n",
              "        if (!dataTable) return;\n",
              "\n",
              "        const docLinkHtml = 'Like what you see? Visit the ' +\n",
              "          '<a target=\"_blank\" href=https://colab.research.google.com/notebooks/data_table.ipynb>data table notebook</a>'\n",
              "          + ' to learn more about interactive tables.';\n",
              "        element.innerHTML = '';\n",
              "        dataTable['output_type'] = 'display_data';\n",
              "        await google.colab.output.renderOutput(dataTable, element);\n",
              "        const docLink = document.createElement('div');\n",
              "        docLink.innerHTML = docLinkHtml;\n",
              "        element.appendChild(docLink);\n",
              "      }\n",
              "    </script>\n",
              "  </div>\n",
              "\n",
              "\n",
              "<div id=\"df-19a7e4f1-e860-4b3b-bd7a-c0730e682976\">\n",
              "  <button class=\"colab-df-quickchart\" onclick=\"quickchart('df-19a7e4f1-e860-4b3b-bd7a-c0730e682976')\"\n",
              "            title=\"Suggest charts\"\n",
              "            style=\"display:none;\">\n",
              "\n",
              "<svg xmlns=\"http://www.w3.org/2000/svg\" height=\"24px\"viewBox=\"0 0 24 24\"\n",
              "     width=\"24px\">\n",
              "    <g>\n",
              "        <path d=\"M19 3H5c-1.1 0-2 .9-2 2v14c0 1.1.9 2 2 2h14c1.1 0 2-.9 2-2V5c0-1.1-.9-2-2-2zM9 17H7v-7h2v7zm4 0h-2V7h2v10zm4 0h-2v-4h2v4z\"/>\n",
              "    </g>\n",
              "</svg>\n",
              "  </button>\n",
              "\n",
              "<style>\n",
              "  .colab-df-quickchart {\n",
              "      --bg-color: #E8F0FE;\n",
              "      --fill-color: #1967D2;\n",
              "      --hover-bg-color: #E2EBFA;\n",
              "      --hover-fill-color: #174EA6;\n",
              "      --disabled-fill-color: #AAA;\n",
              "      --disabled-bg-color: #DDD;\n",
              "  }\n",
              "\n",
              "  [theme=dark] .colab-df-quickchart {\n",
              "      --bg-color: #3B4455;\n",
              "      --fill-color: #D2E3FC;\n",
              "      --hover-bg-color: #434B5C;\n",
              "      --hover-fill-color: #FFFFFF;\n",
              "      --disabled-bg-color: #3B4455;\n",
              "      --disabled-fill-color: #666;\n",
              "  }\n",
              "\n",
              "  .colab-df-quickchart {\n",
              "    background-color: var(--bg-color);\n",
              "    border: none;\n",
              "    border-radius: 50%;\n",
              "    cursor: pointer;\n",
              "    display: none;\n",
              "    fill: var(--fill-color);\n",
              "    height: 32px;\n",
              "    padding: 0;\n",
              "    width: 32px;\n",
              "  }\n",
              "\n",
              "  .colab-df-quickchart:hover {\n",
              "    background-color: var(--hover-bg-color);\n",
              "    box-shadow: 0 1px 2px rgba(60, 64, 67, 0.3), 0 1px 3px 1px rgba(60, 64, 67, 0.15);\n",
              "    fill: var(--button-hover-fill-color);\n",
              "  }\n",
              "\n",
              "  .colab-df-quickchart-complete:disabled,\n",
              "  .colab-df-quickchart-complete:disabled:hover {\n",
              "    background-color: var(--disabled-bg-color);\n",
              "    fill: var(--disabled-fill-color);\n",
              "    box-shadow: none;\n",
              "  }\n",
              "\n",
              "  .colab-df-spinner {\n",
              "    border: 2px solid var(--fill-color);\n",
              "    border-color: transparent;\n",
              "    border-bottom-color: var(--fill-color);\n",
              "    animation:\n",
              "      spin 1s steps(1) infinite;\n",
              "  }\n",
              "\n",
              "  @keyframes spin {\n",
              "    0% {\n",
              "      border-color: transparent;\n",
              "      border-bottom-color: var(--fill-color);\n",
              "      border-left-color: var(--fill-color);\n",
              "    }\n",
              "    20% {\n",
              "      border-color: transparent;\n",
              "      border-left-color: var(--fill-color);\n",
              "      border-top-color: var(--fill-color);\n",
              "    }\n",
              "    30% {\n",
              "      border-color: transparent;\n",
              "      border-left-color: var(--fill-color);\n",
              "      border-top-color: var(--fill-color);\n",
              "      border-right-color: var(--fill-color);\n",
              "    }\n",
              "    40% {\n",
              "      border-color: transparent;\n",
              "      border-right-color: var(--fill-color);\n",
              "      border-top-color: var(--fill-color);\n",
              "    }\n",
              "    60% {\n",
              "      border-color: transparent;\n",
              "      border-right-color: var(--fill-color);\n",
              "    }\n",
              "    80% {\n",
              "      border-color: transparent;\n",
              "      border-right-color: var(--fill-color);\n",
              "      border-bottom-color: var(--fill-color);\n",
              "    }\n",
              "    90% {\n",
              "      border-color: transparent;\n",
              "      border-bottom-color: var(--fill-color);\n",
              "    }\n",
              "  }\n",
              "</style>\n",
              "\n",
              "  <script>\n",
              "    async function quickchart(key) {\n",
              "      const quickchartButtonEl =\n",
              "        document.querySelector('#' + key + ' button');\n",
              "      quickchartButtonEl.disabled = true;  // To prevent multiple clicks.\n",
              "      quickchartButtonEl.classList.add('colab-df-spinner');\n",
              "      try {\n",
              "        const charts = await google.colab.kernel.invokeFunction(\n",
              "            'suggestCharts', [key], {});\n",
              "      } catch (error) {\n",
              "        console.error('Error during call to suggestCharts:', error);\n",
              "      }\n",
              "      quickchartButtonEl.classList.remove('colab-df-spinner');\n",
              "      quickchartButtonEl.classList.add('colab-df-quickchart-complete');\n",
              "    }\n",
              "    (() => {\n",
              "      let quickchartButtonEl =\n",
              "        document.querySelector('#df-19a7e4f1-e860-4b3b-bd7a-c0730e682976 button');\n",
              "      quickchartButtonEl.style.display =\n",
              "        google.colab.kernel.accessAllowed ? 'block' : 'none';\n",
              "    })();\n",
              "  </script>\n",
              "</div>\n",
              "    </div>\n",
              "  </div>\n"
            ],
            "application/vnd.google.colaboratory.intrinsic+json": {
              "type": "dataframe",
              "variable_name": "income_df"
            }
          },
          "metadata": {},
          "execution_count": 5
        }
      ],
      "source": [
        "income_df = pd.read_csv('cleaned_income_data.csv')\n",
        "income_df"
      ]
    },
    {
      "cell_type": "code",
      "source": [
        "null_values = income_df.isnull().any()\n",
        "null_values"
      ],
      "metadata": {
        "colab": {
          "base_uri": "https://localhost:8080/"
        },
        "id": "igngZWzXiucS",
        "outputId": "c21e6410-3fa2-47ad-dc84-08c232f32701"
      },
      "id": "igngZWzXiucS",
      "execution_count": 6,
      "outputs": [
        {
          "output_type": "execute_result",
          "data": {
            "text/plain": [
              "Unnamed: 0    False\n",
              "Year          False\n",
              "First Name     True\n",
              "Last Name      True\n",
              "Job Title      True\n",
              "Income        False\n",
              "dtype: bool"
            ]
          },
          "metadata": {},
          "execution_count": 6
        }
      ]
    },
    {
      "cell_type": "markdown",
      "source": [
        "We can see from this, we have null values in the columns of First Name, Last Name, and Job Title. While we have removed censored names, we have to incorporate for true null values. We will remove any null first and last names first since they wouldn't correspond with our CAPES dataset anyways."
      ],
      "metadata": {
        "id": "wAOHd_GGiybE"
      },
      "id": "wAOHd_GGiybE"
    },
    {
      "cell_type": "code",
      "source": [
        "income_df = income_df.dropna(subset=['First Name', 'Last Name'])\n",
        "null_values = income_df.isnull().any()\n",
        "null_values"
      ],
      "metadata": {
        "colab": {
          "base_uri": "https://localhost:8080/"
        },
        "id": "1HnW-cdbiurC",
        "outputId": "b52baa95-d6ad-4234-f081-b4e5c58b7d62"
      },
      "id": "1HnW-cdbiurC",
      "execution_count": 7,
      "outputs": [
        {
          "output_type": "execute_result",
          "data": {
            "text/plain": [
              "Unnamed: 0    False\n",
              "Year          False\n",
              "First Name    False\n",
              "Last Name     False\n",
              "Job Title      True\n",
              "Income        False\n",
              "dtype: bool"
            ]
          },
          "metadata": {},
          "execution_count": 7
        }
      ]
    },
    {
      "cell_type": "code",
      "source": [
        "income_df.shape"
      ],
      "metadata": {
        "colab": {
          "base_uri": "https://localhost:8080/"
        },
        "id": "AcpxCAPIiwym",
        "outputId": "9463a801-128a-40f0-9c0d-8ae7d217b8f9"
      },
      "id": "AcpxCAPIiwym",
      "execution_count": 8,
      "outputs": [
        {
          "output_type": "execute_result",
          "data": {
            "text/plain": [
              "(362602, 6)"
            ]
          },
          "metadata": {},
          "execution_count": 8
        }
      ]
    },
    {
      "cell_type": "markdown",
      "source": [
        "## Average Income (before splitting by department)"
      ],
      "metadata": {
        "id": "TQ63MhG2i3aX"
      },
      "id": "TQ63MhG2i3aX"
    },
    {
      "cell_type": "code",
      "source": [
        "# Get the different types of data in each column to make sure we can get the average value for income\n",
        "income_df.dtypes"
      ],
      "metadata": {
        "colab": {
          "base_uri": "https://localhost:8080/"
        },
        "id": "FQMT8zfQi09I",
        "outputId": "360296ce-4c34-4814-b5d5-6016222ca88f"
      },
      "id": "FQMT8zfQi09I",
      "execution_count": 9,
      "outputs": [
        {
          "output_type": "execute_result",
          "data": {
            "text/plain": [
              "Unnamed: 0      int64\n",
              "Year            int64\n",
              "First Name     object\n",
              "Last Name      object\n",
              "Job Title      object\n",
              "Income        float64\n",
              "dtype: object"
            ]
          },
          "metadata": {},
          "execution_count": 9
        }
      ]
    },
    {
      "cell_type": "code",
      "source": [
        "# Get the average value of the income column before splitting by department\n",
        "# average_income = income_df['Income'].mean()\n",
        "average_income = round(income_df['Income'].mean(), 2)\n",
        "print(\"$\" + str(average_income))"
      ],
      "metadata": {
        "colab": {
          "base_uri": "https://localhost:8080/"
        },
        "id": "v2ymXKVsi9u9",
        "outputId": "4df288b5-6f07-40ac-a656-857ff29efdba"
      },
      "id": "v2ymXKVsi9u9",
      "execution_count": 10,
      "outputs": [
        {
          "output_type": "stream",
          "name": "stdout",
          "text": [
            "$72666.74\n"
          ]
        }
      ]
    },
    {
      "cell_type": "markdown",
      "source": [
        "We can look at the income data and describe how it looks."
      ],
      "metadata": {
        "id": "irrM-otTjEd3"
      },
      "id": "irrM-otTjEd3"
    },
    {
      "cell_type": "code",
      "source": [
        "income_df['Income'].describe()"
      ],
      "metadata": {
        "colab": {
          "base_uri": "https://localhost:8080/"
        },
        "id": "7G8G8K0Oi-lI",
        "outputId": "374a2f0e-52f2-4092-da41-b7596960d258"
      },
      "id": "7G8G8K0Oi-lI",
      "execution_count": 11,
      "outputs": [
        {
          "output_type": "execute_result",
          "data": {
            "text/plain": [
              "count    3.626020e+05\n",
              "mean     7.266674e+04\n",
              "std      7.989524e+04\n",
              "min     -9.390000e+02\n",
              "25%      2.874000e+04\n",
              "50%      5.399200e+04\n",
              "75%      9.161500e+04\n",
              "max      1.936497e+06\n",
              "Name: Income, dtype: float64"
            ]
          },
          "metadata": {},
          "execution_count": 11
        }
      ]
    },
    {
      "cell_type": "code",
      "source": [
        "income_df = income_df.rename(columns={0: 'Index'})\n",
        "# income_df.head()\n",
        "income_df.describe()"
      ],
      "metadata": {
        "colab": {
          "base_uri": "https://localhost:8080/",
          "height": 300
        },
        "id": "VI3CoIegi_9W",
        "outputId": "b1546aa6-8eef-44a2-ca16-1a563c876981"
      },
      "id": "VI3CoIegi_9W",
      "execution_count": 12,
      "outputs": [
        {
          "output_type": "execute_result",
          "data": {
            "text/plain": [
              "          Unnamed: 0           Year        Income\n",
              "count  362602.000000  362602.000000  3.626020e+05\n",
              "mean   285308.790994    2016.501509  7.266674e+04\n",
              "std    159787.193478       3.763942  7.989524e+04\n",
              "min     12350.000000    2010.000000 -9.390000e+02\n",
              "25%    141827.250000    2013.000000  2.874000e+04\n",
              "50%    291455.500000    2017.000000  5.399200e+04\n",
              "75%    427827.750000    2020.000000  9.161500e+04\n",
              "max    548583.000000    2022.000000  1.936497e+06"
            ],
            "text/html": [
              "\n",
              "  <div id=\"df-3155f6e5-7feb-4e37-8944-e01d73d0af9c\" class=\"colab-df-container\">\n",
              "    <div>\n",
              "<style scoped>\n",
              "    .dataframe tbody tr th:only-of-type {\n",
              "        vertical-align: middle;\n",
              "    }\n",
              "\n",
              "    .dataframe tbody tr th {\n",
              "        vertical-align: top;\n",
              "    }\n",
              "\n",
              "    .dataframe thead th {\n",
              "        text-align: right;\n",
              "    }\n",
              "</style>\n",
              "<table border=\"1\" class=\"dataframe\">\n",
              "  <thead>\n",
              "    <tr style=\"text-align: right;\">\n",
              "      <th></th>\n",
              "      <th>Unnamed: 0</th>\n",
              "      <th>Year</th>\n",
              "      <th>Income</th>\n",
              "    </tr>\n",
              "  </thead>\n",
              "  <tbody>\n",
              "    <tr>\n",
              "      <th>count</th>\n",
              "      <td>362602.000000</td>\n",
              "      <td>362602.000000</td>\n",
              "      <td>3.626020e+05</td>\n",
              "    </tr>\n",
              "    <tr>\n",
              "      <th>mean</th>\n",
              "      <td>285308.790994</td>\n",
              "      <td>2016.501509</td>\n",
              "      <td>7.266674e+04</td>\n",
              "    </tr>\n",
              "    <tr>\n",
              "      <th>std</th>\n",
              "      <td>159787.193478</td>\n",
              "      <td>3.763942</td>\n",
              "      <td>7.989524e+04</td>\n",
              "    </tr>\n",
              "    <tr>\n",
              "      <th>min</th>\n",
              "      <td>12350.000000</td>\n",
              "      <td>2010.000000</td>\n",
              "      <td>-9.390000e+02</td>\n",
              "    </tr>\n",
              "    <tr>\n",
              "      <th>25%</th>\n",
              "      <td>141827.250000</td>\n",
              "      <td>2013.000000</td>\n",
              "      <td>2.874000e+04</td>\n",
              "    </tr>\n",
              "    <tr>\n",
              "      <th>50%</th>\n",
              "      <td>291455.500000</td>\n",
              "      <td>2017.000000</td>\n",
              "      <td>5.399200e+04</td>\n",
              "    </tr>\n",
              "    <tr>\n",
              "      <th>75%</th>\n",
              "      <td>427827.750000</td>\n",
              "      <td>2020.000000</td>\n",
              "      <td>9.161500e+04</td>\n",
              "    </tr>\n",
              "    <tr>\n",
              "      <th>max</th>\n",
              "      <td>548583.000000</td>\n",
              "      <td>2022.000000</td>\n",
              "      <td>1.936497e+06</td>\n",
              "    </tr>\n",
              "  </tbody>\n",
              "</table>\n",
              "</div>\n",
              "    <div class=\"colab-df-buttons\">\n",
              "\n",
              "  <div class=\"colab-df-container\">\n",
              "    <button class=\"colab-df-convert\" onclick=\"convertToInteractive('df-3155f6e5-7feb-4e37-8944-e01d73d0af9c')\"\n",
              "            title=\"Convert this dataframe to an interactive table.\"\n",
              "            style=\"display:none;\">\n",
              "\n",
              "  <svg xmlns=\"http://www.w3.org/2000/svg\" height=\"24px\" viewBox=\"0 -960 960 960\">\n",
              "    <path d=\"M120-120v-720h720v720H120Zm60-500h600v-160H180v160Zm220 220h160v-160H400v160Zm0 220h160v-160H400v160ZM180-400h160v-160H180v160Zm440 0h160v-160H620v160ZM180-180h160v-160H180v160Zm440 0h160v-160H620v160Z\"/>\n",
              "  </svg>\n",
              "    </button>\n",
              "\n",
              "  <style>\n",
              "    .colab-df-container {\n",
              "      display:flex;\n",
              "      gap: 12px;\n",
              "    }\n",
              "\n",
              "    .colab-df-convert {\n",
              "      background-color: #E8F0FE;\n",
              "      border: none;\n",
              "      border-radius: 50%;\n",
              "      cursor: pointer;\n",
              "      display: none;\n",
              "      fill: #1967D2;\n",
              "      height: 32px;\n",
              "      padding: 0 0 0 0;\n",
              "      width: 32px;\n",
              "    }\n",
              "\n",
              "    .colab-df-convert:hover {\n",
              "      background-color: #E2EBFA;\n",
              "      box-shadow: 0px 1px 2px rgba(60, 64, 67, 0.3), 0px 1px 3px 1px rgba(60, 64, 67, 0.15);\n",
              "      fill: #174EA6;\n",
              "    }\n",
              "\n",
              "    .colab-df-buttons div {\n",
              "      margin-bottom: 4px;\n",
              "    }\n",
              "\n",
              "    [theme=dark] .colab-df-convert {\n",
              "      background-color: #3B4455;\n",
              "      fill: #D2E3FC;\n",
              "    }\n",
              "\n",
              "    [theme=dark] .colab-df-convert:hover {\n",
              "      background-color: #434B5C;\n",
              "      box-shadow: 0px 1px 3px 1px rgba(0, 0, 0, 0.15);\n",
              "      filter: drop-shadow(0px 1px 2px rgba(0, 0, 0, 0.3));\n",
              "      fill: #FFFFFF;\n",
              "    }\n",
              "  </style>\n",
              "\n",
              "    <script>\n",
              "      const buttonEl =\n",
              "        document.querySelector('#df-3155f6e5-7feb-4e37-8944-e01d73d0af9c button.colab-df-convert');\n",
              "      buttonEl.style.display =\n",
              "        google.colab.kernel.accessAllowed ? 'block' : 'none';\n",
              "\n",
              "      async function convertToInteractive(key) {\n",
              "        const element = document.querySelector('#df-3155f6e5-7feb-4e37-8944-e01d73d0af9c');\n",
              "        const dataTable =\n",
              "          await google.colab.kernel.invokeFunction('convertToInteractive',\n",
              "                                                    [key], {});\n",
              "        if (!dataTable) return;\n",
              "\n",
              "        const docLinkHtml = 'Like what you see? Visit the ' +\n",
              "          '<a target=\"_blank\" href=https://colab.research.google.com/notebooks/data_table.ipynb>data table notebook</a>'\n",
              "          + ' to learn more about interactive tables.';\n",
              "        element.innerHTML = '';\n",
              "        dataTable['output_type'] = 'display_data';\n",
              "        await google.colab.output.renderOutput(dataTable, element);\n",
              "        const docLink = document.createElement('div');\n",
              "        docLink.innerHTML = docLinkHtml;\n",
              "        element.appendChild(docLink);\n",
              "      }\n",
              "    </script>\n",
              "  </div>\n",
              "\n",
              "\n",
              "<div id=\"df-1d5bcb70-2576-4d6a-b0cd-2bac89b349f0\">\n",
              "  <button class=\"colab-df-quickchart\" onclick=\"quickchart('df-1d5bcb70-2576-4d6a-b0cd-2bac89b349f0')\"\n",
              "            title=\"Suggest charts\"\n",
              "            style=\"display:none;\">\n",
              "\n",
              "<svg xmlns=\"http://www.w3.org/2000/svg\" height=\"24px\"viewBox=\"0 0 24 24\"\n",
              "     width=\"24px\">\n",
              "    <g>\n",
              "        <path d=\"M19 3H5c-1.1 0-2 .9-2 2v14c0 1.1.9 2 2 2h14c1.1 0 2-.9 2-2V5c0-1.1-.9-2-2-2zM9 17H7v-7h2v7zm4 0h-2V7h2v10zm4 0h-2v-4h2v4z\"/>\n",
              "    </g>\n",
              "</svg>\n",
              "  </button>\n",
              "\n",
              "<style>\n",
              "  .colab-df-quickchart {\n",
              "      --bg-color: #E8F0FE;\n",
              "      --fill-color: #1967D2;\n",
              "      --hover-bg-color: #E2EBFA;\n",
              "      --hover-fill-color: #174EA6;\n",
              "      --disabled-fill-color: #AAA;\n",
              "      --disabled-bg-color: #DDD;\n",
              "  }\n",
              "\n",
              "  [theme=dark] .colab-df-quickchart {\n",
              "      --bg-color: #3B4455;\n",
              "      --fill-color: #D2E3FC;\n",
              "      --hover-bg-color: #434B5C;\n",
              "      --hover-fill-color: #FFFFFF;\n",
              "      --disabled-bg-color: #3B4455;\n",
              "      --disabled-fill-color: #666;\n",
              "  }\n",
              "\n",
              "  .colab-df-quickchart {\n",
              "    background-color: var(--bg-color);\n",
              "    border: none;\n",
              "    border-radius: 50%;\n",
              "    cursor: pointer;\n",
              "    display: none;\n",
              "    fill: var(--fill-color);\n",
              "    height: 32px;\n",
              "    padding: 0;\n",
              "    width: 32px;\n",
              "  }\n",
              "\n",
              "  .colab-df-quickchart:hover {\n",
              "    background-color: var(--hover-bg-color);\n",
              "    box-shadow: 0 1px 2px rgba(60, 64, 67, 0.3), 0 1px 3px 1px rgba(60, 64, 67, 0.15);\n",
              "    fill: var(--button-hover-fill-color);\n",
              "  }\n",
              "\n",
              "  .colab-df-quickchart-complete:disabled,\n",
              "  .colab-df-quickchart-complete:disabled:hover {\n",
              "    background-color: var(--disabled-bg-color);\n",
              "    fill: var(--disabled-fill-color);\n",
              "    box-shadow: none;\n",
              "  }\n",
              "\n",
              "  .colab-df-spinner {\n",
              "    border: 2px solid var(--fill-color);\n",
              "    border-color: transparent;\n",
              "    border-bottom-color: var(--fill-color);\n",
              "    animation:\n",
              "      spin 1s steps(1) infinite;\n",
              "  }\n",
              "\n",
              "  @keyframes spin {\n",
              "    0% {\n",
              "      border-color: transparent;\n",
              "      border-bottom-color: var(--fill-color);\n",
              "      border-left-color: var(--fill-color);\n",
              "    }\n",
              "    20% {\n",
              "      border-color: transparent;\n",
              "      border-left-color: var(--fill-color);\n",
              "      border-top-color: var(--fill-color);\n",
              "    }\n",
              "    30% {\n",
              "      border-color: transparent;\n",
              "      border-left-color: var(--fill-color);\n",
              "      border-top-color: var(--fill-color);\n",
              "      border-right-color: var(--fill-color);\n",
              "    }\n",
              "    40% {\n",
              "      border-color: transparent;\n",
              "      border-right-color: var(--fill-color);\n",
              "      border-top-color: var(--fill-color);\n",
              "    }\n",
              "    60% {\n",
              "      border-color: transparent;\n",
              "      border-right-color: var(--fill-color);\n",
              "    }\n",
              "    80% {\n",
              "      border-color: transparent;\n",
              "      border-right-color: var(--fill-color);\n",
              "      border-bottom-color: var(--fill-color);\n",
              "    }\n",
              "    90% {\n",
              "      border-color: transparent;\n",
              "      border-bottom-color: var(--fill-color);\n",
              "    }\n",
              "  }\n",
              "</style>\n",
              "\n",
              "  <script>\n",
              "    async function quickchart(key) {\n",
              "      const quickchartButtonEl =\n",
              "        document.querySelector('#' + key + ' button');\n",
              "      quickchartButtonEl.disabled = true;  // To prevent multiple clicks.\n",
              "      quickchartButtonEl.classList.add('colab-df-spinner');\n",
              "      try {\n",
              "        const charts = await google.colab.kernel.invokeFunction(\n",
              "            'suggestCharts', [key], {});\n",
              "      } catch (error) {\n",
              "        console.error('Error during call to suggestCharts:', error);\n",
              "      }\n",
              "      quickchartButtonEl.classList.remove('colab-df-spinner');\n",
              "      quickchartButtonEl.classList.add('colab-df-quickchart-complete');\n",
              "    }\n",
              "    (() => {\n",
              "      let quickchartButtonEl =\n",
              "        document.querySelector('#df-1d5bcb70-2576-4d6a-b0cd-2bac89b349f0 button');\n",
              "      quickchartButtonEl.style.display =\n",
              "        google.colab.kernel.accessAllowed ? 'block' : 'none';\n",
              "    })();\n",
              "  </script>\n",
              "</div>\n",
              "    </div>\n",
              "  </div>\n"
            ],
            "application/vnd.google.colaboratory.intrinsic+json": {
              "type": "dataframe",
              "summary": "{\n  \"name\": \"income_df\",\n  \"rows\": 8,\n  \"fields\": [\n    {\n      \"column\": \"Unnamed: 0\",\n      \"properties\": {\n        \"dtype\": \"number\",\n        \"std\": 171605.26517772028,\n        \"min\": 12350.0,\n        \"max\": 548583.0,\n        \"num_unique_values\": 8,\n        \"samples\": [\n          285308.7909939824,\n          291455.5,\n          362602.0\n        ],\n        \"semantic_type\": \"\",\n        \"description\": \"\"\n      }\n    },\n    {\n      \"column\": \"Year\",\n      \"properties\": {\n        \"dtype\": \"number\",\n        \"std\": 127589.85367193083,\n        \"min\": 3.7639417276583496,\n        \"max\": 362602.0,\n        \"num_unique_values\": 8,\n        \"samples\": [\n          2016.501508541045,\n          2017.0,\n          362602.0\n        ],\n        \"semantic_type\": \"\",\n        \"description\": \"\"\n      }\n    },\n    {\n      \"column\": \"Income\",\n      \"properties\": {\n        \"dtype\": \"number\",\n        \"std\": 659429.0237390569,\n        \"min\": -939.0,\n        \"max\": 1936497.0,\n        \"num_unique_values\": 8,\n        \"samples\": [\n          72666.74436177958,\n          53992.0,\n          362602.0\n        ],\n        \"semantic_type\": \"\",\n        \"description\": \"\"\n      }\n    }\n  ]\n}"
            }
          },
          "metadata": {},
          "execution_count": 12
        }
      ]
    },
    {
      "cell_type": "code",
      "source": [
        "print(income_df['Job Title'].unique())\n",
        "unique_jobs = income_df['Job Title'].unique()\n",
        "print(len(unique_jobs))"
      ],
      "metadata": {
        "colab": {
          "base_uri": "https://localhost:8080/"
        },
        "id": "cJLeIQYJjGOE",
        "outputId": "ec26a724-aa2b-4fa6-9388-53dada7c17d5"
      },
      "id": "cJLeIQYJjGOE",
      "execution_count": 13,
      "outputs": [
        {
          "output_type": "stream",
          "name": "stdout",
          "text": [
            "['TECHNICIAN, DEVELOPMENT, IV' 'TRANSLATOR/INTERP FOR THE DEAF'\n",
            " 'ASSOCIATE PROF IN RES-HCOMP' ... 'COMPENSATION MGR 1'\n",
            " 'FINANCIAL SVC ANL 5' 'BOAT ENGR PD']\n",
            "3141\n"
          ]
        }
      ]
    },
    {
      "cell_type": "markdown",
      "source": [
        "We will get the average of all the incomes from each year and try to plot them on a bar graph to see the general trend of income for each year"
      ],
      "metadata": {
        "id": "GCJexwwFjKrv"
      },
      "id": "GCJexwwFjKrv"
    },
    {
      "cell_type": "code",
      "source": [
        "average_income_years = income_df.groupby('Year')['Income'].mean().round(2).tolist()\n",
        "# average_income_years\n",
        "average_df = income_df.groupby('Year')['Income'].mean().round(2).reset_index()\n",
        "\n",
        "# Rename the columns for clarity\n",
        "average_df.columns = ['Year', 'Average Income']\n",
        "average_df"
      ],
      "metadata": {
        "colab": {
          "base_uri": "https://localhost:8080/",
          "height": 457
        },
        "id": "VslmbYXWjHQk",
        "outputId": "e90162c4-7853-4bed-92d1-d8eb94337de0"
      },
      "id": "VslmbYXWjHQk",
      "execution_count": 14,
      "outputs": [
        {
          "output_type": "execute_result",
          "data": {
            "text/plain": [
              "    Year  Average Income\n",
              "0   2010        56182.19\n",
              "1   2011        57857.48\n",
              "2   2012        61153.29\n",
              "3   2013        63342.88\n",
              "4   2014        65722.50\n",
              "5   2015        67787.33\n",
              "6   2016        70572.18\n",
              "7   2017        74144.91\n",
              "8   2018        76541.99\n",
              "9   2019        79462.33\n",
              "10  2020        83281.64\n",
              "11  2021        83981.51\n",
              "12  2022        87271.85"
            ],
            "text/html": [
              "\n",
              "  <div id=\"df-4b3ff09f-df3b-48e7-aa0d-1aade88d3e6e\" class=\"colab-df-container\">\n",
              "    <div>\n",
              "<style scoped>\n",
              "    .dataframe tbody tr th:only-of-type {\n",
              "        vertical-align: middle;\n",
              "    }\n",
              "\n",
              "    .dataframe tbody tr th {\n",
              "        vertical-align: top;\n",
              "    }\n",
              "\n",
              "    .dataframe thead th {\n",
              "        text-align: right;\n",
              "    }\n",
              "</style>\n",
              "<table border=\"1\" class=\"dataframe\">\n",
              "  <thead>\n",
              "    <tr style=\"text-align: right;\">\n",
              "      <th></th>\n",
              "      <th>Year</th>\n",
              "      <th>Average Income</th>\n",
              "    </tr>\n",
              "  </thead>\n",
              "  <tbody>\n",
              "    <tr>\n",
              "      <th>0</th>\n",
              "      <td>2010</td>\n",
              "      <td>56182.19</td>\n",
              "    </tr>\n",
              "    <tr>\n",
              "      <th>1</th>\n",
              "      <td>2011</td>\n",
              "      <td>57857.48</td>\n",
              "    </tr>\n",
              "    <tr>\n",
              "      <th>2</th>\n",
              "      <td>2012</td>\n",
              "      <td>61153.29</td>\n",
              "    </tr>\n",
              "    <tr>\n",
              "      <th>3</th>\n",
              "      <td>2013</td>\n",
              "      <td>63342.88</td>\n",
              "    </tr>\n",
              "    <tr>\n",
              "      <th>4</th>\n",
              "      <td>2014</td>\n",
              "      <td>65722.50</td>\n",
              "    </tr>\n",
              "    <tr>\n",
              "      <th>5</th>\n",
              "      <td>2015</td>\n",
              "      <td>67787.33</td>\n",
              "    </tr>\n",
              "    <tr>\n",
              "      <th>6</th>\n",
              "      <td>2016</td>\n",
              "      <td>70572.18</td>\n",
              "    </tr>\n",
              "    <tr>\n",
              "      <th>7</th>\n",
              "      <td>2017</td>\n",
              "      <td>74144.91</td>\n",
              "    </tr>\n",
              "    <tr>\n",
              "      <th>8</th>\n",
              "      <td>2018</td>\n",
              "      <td>76541.99</td>\n",
              "    </tr>\n",
              "    <tr>\n",
              "      <th>9</th>\n",
              "      <td>2019</td>\n",
              "      <td>79462.33</td>\n",
              "    </tr>\n",
              "    <tr>\n",
              "      <th>10</th>\n",
              "      <td>2020</td>\n",
              "      <td>83281.64</td>\n",
              "    </tr>\n",
              "    <tr>\n",
              "      <th>11</th>\n",
              "      <td>2021</td>\n",
              "      <td>83981.51</td>\n",
              "    </tr>\n",
              "    <tr>\n",
              "      <th>12</th>\n",
              "      <td>2022</td>\n",
              "      <td>87271.85</td>\n",
              "    </tr>\n",
              "  </tbody>\n",
              "</table>\n",
              "</div>\n",
              "    <div class=\"colab-df-buttons\">\n",
              "\n",
              "  <div class=\"colab-df-container\">\n",
              "    <button class=\"colab-df-convert\" onclick=\"convertToInteractive('df-4b3ff09f-df3b-48e7-aa0d-1aade88d3e6e')\"\n",
              "            title=\"Convert this dataframe to an interactive table.\"\n",
              "            style=\"display:none;\">\n",
              "\n",
              "  <svg xmlns=\"http://www.w3.org/2000/svg\" height=\"24px\" viewBox=\"0 -960 960 960\">\n",
              "    <path d=\"M120-120v-720h720v720H120Zm60-500h600v-160H180v160Zm220 220h160v-160H400v160Zm0 220h160v-160H400v160ZM180-400h160v-160H180v160Zm440 0h160v-160H620v160ZM180-180h160v-160H180v160Zm440 0h160v-160H620v160Z\"/>\n",
              "  </svg>\n",
              "    </button>\n",
              "\n",
              "  <style>\n",
              "    .colab-df-container {\n",
              "      display:flex;\n",
              "      gap: 12px;\n",
              "    }\n",
              "\n",
              "    .colab-df-convert {\n",
              "      background-color: #E8F0FE;\n",
              "      border: none;\n",
              "      border-radius: 50%;\n",
              "      cursor: pointer;\n",
              "      display: none;\n",
              "      fill: #1967D2;\n",
              "      height: 32px;\n",
              "      padding: 0 0 0 0;\n",
              "      width: 32px;\n",
              "    }\n",
              "\n",
              "    .colab-df-convert:hover {\n",
              "      background-color: #E2EBFA;\n",
              "      box-shadow: 0px 1px 2px rgba(60, 64, 67, 0.3), 0px 1px 3px 1px rgba(60, 64, 67, 0.15);\n",
              "      fill: #174EA6;\n",
              "    }\n",
              "\n",
              "    .colab-df-buttons div {\n",
              "      margin-bottom: 4px;\n",
              "    }\n",
              "\n",
              "    [theme=dark] .colab-df-convert {\n",
              "      background-color: #3B4455;\n",
              "      fill: #D2E3FC;\n",
              "    }\n",
              "\n",
              "    [theme=dark] .colab-df-convert:hover {\n",
              "      background-color: #434B5C;\n",
              "      box-shadow: 0px 1px 3px 1px rgba(0, 0, 0, 0.15);\n",
              "      filter: drop-shadow(0px 1px 2px rgba(0, 0, 0, 0.3));\n",
              "      fill: #FFFFFF;\n",
              "    }\n",
              "  </style>\n",
              "\n",
              "    <script>\n",
              "      const buttonEl =\n",
              "        document.querySelector('#df-4b3ff09f-df3b-48e7-aa0d-1aade88d3e6e button.colab-df-convert');\n",
              "      buttonEl.style.display =\n",
              "        google.colab.kernel.accessAllowed ? 'block' : 'none';\n",
              "\n",
              "      async function convertToInteractive(key) {\n",
              "        const element = document.querySelector('#df-4b3ff09f-df3b-48e7-aa0d-1aade88d3e6e');\n",
              "        const dataTable =\n",
              "          await google.colab.kernel.invokeFunction('convertToInteractive',\n",
              "                                                    [key], {});\n",
              "        if (!dataTable) return;\n",
              "\n",
              "        const docLinkHtml = 'Like what you see? Visit the ' +\n",
              "          '<a target=\"_blank\" href=https://colab.research.google.com/notebooks/data_table.ipynb>data table notebook</a>'\n",
              "          + ' to learn more about interactive tables.';\n",
              "        element.innerHTML = '';\n",
              "        dataTable['output_type'] = 'display_data';\n",
              "        await google.colab.output.renderOutput(dataTable, element);\n",
              "        const docLink = document.createElement('div');\n",
              "        docLink.innerHTML = docLinkHtml;\n",
              "        element.appendChild(docLink);\n",
              "      }\n",
              "    </script>\n",
              "  </div>\n",
              "\n",
              "\n",
              "<div id=\"df-dc342da0-b8b0-4e3b-b958-b7ce5403b16c\">\n",
              "  <button class=\"colab-df-quickchart\" onclick=\"quickchart('df-dc342da0-b8b0-4e3b-b958-b7ce5403b16c')\"\n",
              "            title=\"Suggest charts\"\n",
              "            style=\"display:none;\">\n",
              "\n",
              "<svg xmlns=\"http://www.w3.org/2000/svg\" height=\"24px\"viewBox=\"0 0 24 24\"\n",
              "     width=\"24px\">\n",
              "    <g>\n",
              "        <path d=\"M19 3H5c-1.1 0-2 .9-2 2v14c0 1.1.9 2 2 2h14c1.1 0 2-.9 2-2V5c0-1.1-.9-2-2-2zM9 17H7v-7h2v7zm4 0h-2V7h2v10zm4 0h-2v-4h2v4z\"/>\n",
              "    </g>\n",
              "</svg>\n",
              "  </button>\n",
              "\n",
              "<style>\n",
              "  .colab-df-quickchart {\n",
              "      --bg-color: #E8F0FE;\n",
              "      --fill-color: #1967D2;\n",
              "      --hover-bg-color: #E2EBFA;\n",
              "      --hover-fill-color: #174EA6;\n",
              "      --disabled-fill-color: #AAA;\n",
              "      --disabled-bg-color: #DDD;\n",
              "  }\n",
              "\n",
              "  [theme=dark] .colab-df-quickchart {\n",
              "      --bg-color: #3B4455;\n",
              "      --fill-color: #D2E3FC;\n",
              "      --hover-bg-color: #434B5C;\n",
              "      --hover-fill-color: #FFFFFF;\n",
              "      --disabled-bg-color: #3B4455;\n",
              "      --disabled-fill-color: #666;\n",
              "  }\n",
              "\n",
              "  .colab-df-quickchart {\n",
              "    background-color: var(--bg-color);\n",
              "    border: none;\n",
              "    border-radius: 50%;\n",
              "    cursor: pointer;\n",
              "    display: none;\n",
              "    fill: var(--fill-color);\n",
              "    height: 32px;\n",
              "    padding: 0;\n",
              "    width: 32px;\n",
              "  }\n",
              "\n",
              "  .colab-df-quickchart:hover {\n",
              "    background-color: var(--hover-bg-color);\n",
              "    box-shadow: 0 1px 2px rgba(60, 64, 67, 0.3), 0 1px 3px 1px rgba(60, 64, 67, 0.15);\n",
              "    fill: var(--button-hover-fill-color);\n",
              "  }\n",
              "\n",
              "  .colab-df-quickchart-complete:disabled,\n",
              "  .colab-df-quickchart-complete:disabled:hover {\n",
              "    background-color: var(--disabled-bg-color);\n",
              "    fill: var(--disabled-fill-color);\n",
              "    box-shadow: none;\n",
              "  }\n",
              "\n",
              "  .colab-df-spinner {\n",
              "    border: 2px solid var(--fill-color);\n",
              "    border-color: transparent;\n",
              "    border-bottom-color: var(--fill-color);\n",
              "    animation:\n",
              "      spin 1s steps(1) infinite;\n",
              "  }\n",
              "\n",
              "  @keyframes spin {\n",
              "    0% {\n",
              "      border-color: transparent;\n",
              "      border-bottom-color: var(--fill-color);\n",
              "      border-left-color: var(--fill-color);\n",
              "    }\n",
              "    20% {\n",
              "      border-color: transparent;\n",
              "      border-left-color: var(--fill-color);\n",
              "      border-top-color: var(--fill-color);\n",
              "    }\n",
              "    30% {\n",
              "      border-color: transparent;\n",
              "      border-left-color: var(--fill-color);\n",
              "      border-top-color: var(--fill-color);\n",
              "      border-right-color: var(--fill-color);\n",
              "    }\n",
              "    40% {\n",
              "      border-color: transparent;\n",
              "      border-right-color: var(--fill-color);\n",
              "      border-top-color: var(--fill-color);\n",
              "    }\n",
              "    60% {\n",
              "      border-color: transparent;\n",
              "      border-right-color: var(--fill-color);\n",
              "    }\n",
              "    80% {\n",
              "      border-color: transparent;\n",
              "      border-right-color: var(--fill-color);\n",
              "      border-bottom-color: var(--fill-color);\n",
              "    }\n",
              "    90% {\n",
              "      border-color: transparent;\n",
              "      border-bottom-color: var(--fill-color);\n",
              "    }\n",
              "  }\n",
              "</style>\n",
              "\n",
              "  <script>\n",
              "    async function quickchart(key) {\n",
              "      const quickchartButtonEl =\n",
              "        document.querySelector('#' + key + ' button');\n",
              "      quickchartButtonEl.disabled = true;  // To prevent multiple clicks.\n",
              "      quickchartButtonEl.classList.add('colab-df-spinner');\n",
              "      try {\n",
              "        const charts = await google.colab.kernel.invokeFunction(\n",
              "            'suggestCharts', [key], {});\n",
              "      } catch (error) {\n",
              "        console.error('Error during call to suggestCharts:', error);\n",
              "      }\n",
              "      quickchartButtonEl.classList.remove('colab-df-spinner');\n",
              "      quickchartButtonEl.classList.add('colab-df-quickchart-complete');\n",
              "    }\n",
              "    (() => {\n",
              "      let quickchartButtonEl =\n",
              "        document.querySelector('#df-dc342da0-b8b0-4e3b-b958-b7ce5403b16c button');\n",
              "      quickchartButtonEl.style.display =\n",
              "        google.colab.kernel.accessAllowed ? 'block' : 'none';\n",
              "    })();\n",
              "  </script>\n",
              "</div>\n",
              "    </div>\n",
              "  </div>\n"
            ],
            "application/vnd.google.colaboratory.intrinsic+json": {
              "type": "dataframe",
              "variable_name": "average_df",
              "summary": "{\n  \"name\": \"average_df\",\n  \"rows\": 13,\n  \"fields\": [\n    {\n      \"column\": \"Year\",\n      \"properties\": {\n        \"dtype\": \"number\",\n        \"std\": 3,\n        \"min\": 2010,\n        \"max\": 2022,\n        \"num_unique_values\": 13,\n        \"samples\": [\n          2021,\n          2019,\n          2010\n        ],\n        \"semantic_type\": \"\",\n        \"description\": \"\"\n      }\n    },\n    {\n      \"column\": \"Average Income\",\n      \"properties\": {\n        \"dtype\": \"number\",\n        \"std\": 10332.640985651942,\n        \"min\": 56182.19,\n        \"max\": 87271.85,\n        \"num_unique_values\": 13,\n        \"samples\": [\n          83981.51,\n          79462.33,\n          56182.19\n        ],\n        \"semantic_type\": \"\",\n        \"description\": \"\"\n      }\n    }\n  ]\n}"
            }
          },
          "metadata": {},
          "execution_count": 14
        }
      ]
    },
    {
      "cell_type": "code",
      "source": [
        "# Plotting trends of income over the 13 years\n",
        "plt.plot(average_df['Year'], average_df['Average Income'], marker='o')\n",
        "plt.xlabel('Year')\n",
        "plt.ylabel('Average Income')\n",
        "plt.title('Trend of Average Income Over Time')\n",
        "plt.grid(True)\n",
        "plt.show()"
      ],
      "metadata": {
        "colab": {
          "base_uri": "https://localhost:8080/",
          "height": 472
        },
        "id": "Owu930kOjI93",
        "outputId": "f9b74ab6-1c39-4994-9bc8-c9b1dc6a3c13"
      },
      "id": "Owu930kOjI93",
      "execution_count": 15,
      "outputs": [
        {
          "output_type": "display_data",
          "data": {
            "text/plain": [
              "<Figure size 640x480 with 1 Axes>"
            ],
            "image/png": "[encoded data removed]"
          },
          "metadata": {}
        }
      ]
    },
    {
      "cell_type": "markdown",
      "source": [
        "We can take a closer look at the distributions of income over time through a boxplot."
      ],
      "metadata": {
        "id": "Ay4FFRB6pDGa"
      },
      "id": "Ay4FFRB6pDGa"
    },
    {
      "cell_type": "code",
      "source": [
        "sns.boxplot(x='Year', y='Income', data=income_df)\n",
        "plt.title('Boxplot of Income Distribution by Year')\n",
        "plt.xlabel('Year')\n",
        "plt.ylabel('Income')\n",
        "plt.show()"
      ],
      "metadata": {
        "colab": {
          "base_uri": "https://localhost:8080/",
          "height": 472
        },
        "id": "CP4ReVLQo9MW",
        "outputId": "9541b2f7-417a-4c43-f097-4b17d8820a49"
      },
      "id": "CP4ReVLQo9MW",
      "execution_count": 23,
      "outputs": [
        {
          "output_type": "display_data",
          "data": {
            "text/plain": [
              "<Figure size 640x480 with 1 Axes>"
            ],
            "image/png": "[encoded data removed]"
          },
          "metadata": {}
        }
      ]
    },
    {
      "cell_type": "markdown",
      "source": [
        "Looking at the boxplots over time, we can see that the interquartile range steadily increases over time and the upper whisker significantly increases over time. Of course, there are a lot of upper outliers in each year since this dataset consists of all jobs in UCSD. The top income outliers also seem to increase over time too, peaking at 2018 and 2021."
      ],
      "metadata": {
        "id": "XS3aRpkWpomx"
      },
      "id": "XS3aRpkWpomx"
    },
    {
      "cell_type": "markdown",
      "source": [
        "We will now look at the income distribution using a histogram."
      ],
      "metadata": {
        "id": "xl4_SHQum8B1"
      },
      "id": "xl4_SHQum8B1"
    },
    {
      "cell_type": "code",
      "source": [
        "plt.hist(income_df['Income'], bins=20, edgecolor='black')\n",
        "plt.title('Income Distribution')\n",
        "plt.xlabel('Income')\n",
        "plt.ylabel('Frequency')\n",
        "plt.show()"
      ],
      "metadata": {
        "colab": {
          "base_uri": "https://localhost:8080/",
          "height": 472
        },
        "id": "0JHc3lwTmw_w",
        "outputId": "5b81969a-ef2c-4a22-fb29-dc50ba9731c0"
      },
      "id": "0JHc3lwTmw_w",
      "execution_count": 16,
      "outputs": [
        {
          "output_type": "display_data",
          "data": {
            "text/plain": [
              "<Figure size 640x480 with 1 Axes>"
            ],
            "image/png": "[encoded data removed]"
          },
          "metadata": {}
        }
      ]
    },
    {
      "cell_type": "markdown",
      "source": [
        "The distribution heavily skews left, so we should relook at a closer view of the distribution by capping the x-axis to say, $750K."
      ],
      "metadata": {
        "id": "xGtH-qf7nzmi"
      },
      "id": "xGtH-qf7nzmi"
    },
    {
      "cell_type": "code",
      "source": [
        "plt.hist(income_df['Income'], bins=20, range=(0, 750000), edgecolor='black')\n",
        "plt.title('Income Distribution')\n",
        "plt.xlabel('Income')\n",
        "plt.ylabel('Frequency')\n",
        "plt.show()"
      ],
      "metadata": {
        "colab": {
          "base_uri": "https://localhost:8080/",
          "height": 472
        },
        "id": "IomtL8-LoFXd",
        "outputId": "fe8f8a7b-d2e4-4de0-b752-af540a614c48"
      },
      "id": "IomtL8-LoFXd",
      "execution_count": 17,
      "outputs": [
        {
          "output_type": "display_data",
          "data": {
            "text/plain": [
              "<Figure size 640x480 with 1 Axes>"
            ],
            "image/png": "[encoded data removed]"
          },
          "metadata": {}
        }
      ]
    },
    {
      "cell_type": "markdown",
      "source": [
        "Looking at the distribution, the majority of employees in the dataset make less than \\$100K. Because the range is \\$750K with 20 bins, each bar represents \\$750K/20 = \\$37.5K. This means that the mode of this distribution is the bar that represents \\$37.5-75K. This distribution makes sense to all employees in UCSD but it is not accurate for the income distribution of all professors and lecturers."
      ],
      "metadata": {
        "id": "0crujnQhp3S6"
      },
      "id": "0crujnQhp3S6"
    },
    {
      "cell_type": "markdown",
      "source": [
        "Next, we will take a look at what the top jobs consist of in the income database."
      ],
      "metadata": {
        "id": "0vYuo6a1j06s"
      },
      "id": "0vYuo6a1j06s"
    },
    {
      "cell_type": "code",
      "source": [
        "top50_jobs = income_df['Job Title'].value_counts().head(50)\n",
        "top50_jobs"
      ],
      "metadata": {
        "colab": {
          "base_uri": "https://localhost:8080/"
        },
        "id": "dFXycuyT14Gs",
        "outputId": "adafc5fd-3632-48a4-e7f6-29099d049a1a"
      },
      "id": "dFXycuyT14Gs",
      "execution_count": 18,
      "outputs": [
        {
          "output_type": "execute_result",
          "data": {
            "text/plain": [
              "CLIN NURSE 2                      21343\n",
              "POSTDOC-EMPLOYEE                  18322\n",
              "BLANK AST 3                        9969\n",
              "TEACHER-UNEX-CONTRACT YR           7743\n",
              "HOSP BLANK AST 3                   5165\n",
              "BLANK AST 2                        4800\n",
              "CUSTODIAN SR                       4558\n",
              "SRA 1                              4476\n",
              "NURSE PD                           4383\n",
              "PROF-AY                            4256\n",
              "CLIN NURSE 3                       3806\n",
              "SRA 2                              3590\n",
              "HS ASST CLIN PROF-HCOMP            3202\n",
              "SRA 3                              3121\n",
              "HS CLIN PROF-HCOMP                 2810\n",
              "ADMIN SPEC                         2697\n",
              "PROF-HCOMP                         2668\n",
              "HS ASSOC CLIN PROF-HCOMP           2528\n",
              "MED CTR CUSTODIAN                  2527\n",
              "ASST PROJ SCIENTIST-FY             2470\n",
              "MED AST 2                          2356\n",
              "ADMIN ANL                          2331\n",
              "LECT-AY-1/9                        2203\n",
              "NURSE, CLINICAL II                 2149\n",
              "ASC PHYSCN                         2080\n",
              "LAB AST 2                          2073\n",
              "NURSE AID SR                       1980\n",
              "SRA 2 NEX                          1849\n",
              "PROF-AY-B/E/E                      1813\n",
              "_____ASSISTANT III                 1784\n",
              "RESID PHYS II-VIII/REP             1761\n",
              "ASSOC PROF-AY                      1706\n",
              "ASC PHYSCN DIPLOMATE               1685\n",
              "VOC NURSE SR                       1664\n",
              "HOSP BLANK AST 2                   1605\n",
              "PROGR ANL 3                        1595\n",
              "ASST PROF-AY                       1593\n",
              "DIR                                1567\n",
              "FOOD SVC WORKER LD                 1514\n",
              "ADMIN ANL SR                       1451\n",
              "CLIN LAB SCI SPEC                  1398\n",
              "STDT AFFAIRS OFCR 1                1366\n",
              "TEACHER-UNIV.EXT.-CONTRACT YR.     1354\n",
              "HOSP AST 3 PD                      1336\n",
              "RECR PRG INSTR 2                   1317\n",
              "_____ASSISTANT II                  1270\n",
              "BLANK AST 1                        1266\n",
              "UNCLASSIFIED                       1265\n",
              "RSCH ADM 3                         1227\n",
              "PHARMACY TCHN 3                    1212\n",
              "Name: Job Title, dtype: int64"
            ]
          },
          "metadata": {},
          "execution_count": 18
        }
      ]
    },
    {
      "cell_type": "code",
      "source": [
        "top_jobs = income_df['Job Title'].value_counts().head(10)\n",
        "top_jobs.plot(kind='barh', color='skyblue')\n",
        "plt.title('Top 10 Job Titles')\n",
        "plt.xlabel('Count')\n",
        "plt.ylabel('Job Title')\n",
        "plt.show()"
      ],
      "metadata": {
        "colab": {
          "base_uri": "https://localhost:8080/",
          "height": 472
        },
        "id": "PiYTlPypjKGI",
        "outputId": "ad34f21b-2eb1-47db-cf00-53d6732aef48"
      },
      "id": "PiYTlPypjKGI",
      "execution_count": 19,
      "outputs": [
        {
          "output_type": "display_data",
          "data": {
            "text/plain": [
              "<Figure size 640x480 with 1 Axes>"
            ],
            "image/png": "[encoded data removed]"
          },
          "metadata": {}
        }
      ]
    },
    {
      "cell_type": "markdown",
      "source": [
        "It seems that out of the top 10 job titles, the majority of them are related to medical fields and research. Doing a quick google search, SRA and BLANK AST refers to research and assistant titles respectively. Looking at [this website](https://www.ucop.edu/academic-personnel-programs/_files/acad-title-codes/academic-titles-sorted-title-code.pdf) that displays a table of codes to academic titles, we can see that PROF-AY means tenured professor, TEACHER-UNEX-CONTRACT YR means a university extension teacher, and of course POSTDOC-EMPLOYEE refers to postdoc scholars. Postdoc scholars are mainly focused on research rather than teaching. This means that only a small fraction of the income dataset relates to teaching and classes at UCSD."
      ],
      "metadata": {
        "id": "cV8CoL04koVg"
      },
      "id": "cV8CoL04koVg"
    },
    {
      "cell_type": "markdown",
      "source": [
        "Now that we can identify which jobs are teaching related, we could look at the income distributions for those job titles."
      ],
      "metadata": {
        "id": "IIjtLpqJrCy3"
      },
      "id": "IIjtLpqJrCy3"
    },
    {
      "cell_type": "code",
      "source": [
        "prof_ay_df = income_df[income_df['Job Title'] == 'PROF-AY']\n",
        "plt.hist(prof_ay_df['Income'], bins=20, color='green', edgecolor='black')\n",
        "plt.title('Income Distribution for Tenured Professors')\n",
        "plt.xlabel('Income')\n",
        "plt.ylabel('Frequency')\n",
        "plt.show()"
      ],
      "metadata": {
        "colab": {
          "base_uri": "https://localhost:8080/",
          "height": 472
        },
        "id": "Ar9oRRxijkCY",
        "outputId": "571523ed-c1d3-43ff-d0ab-ca2064510fa5"
      },
      "id": "Ar9oRRxijkCY",
      "execution_count": 20,
      "outputs": [
        {
          "output_type": "display_data",
          "data": {
            "text/plain": [
              "<Figure size 640x480 with 1 Axes>"
            ],
            "image/png": "[encoded data removed]"
          },
          "metadata": {}
        }
      ]
    },
    {
      "cell_type": "code",
      "source": [
        "prof_ay_df = income_df[income_df['Job Title'] == 'TEACHER-UNEX-CONTRACT YR']\n",
        "plt.hist(prof_ay_df['Income'], bins=20, color='green', edgecolor='black')\n",
        "plt.title('Income Distribution for University Extension Teachers')\n",
        "plt.xlabel('Income')\n",
        "plt.ylabel('Frequency')\n",
        "plt.show()"
      ],
      "metadata": {
        "colab": {
          "base_uri": "https://localhost:8080/",
          "height": 472
        },
        "id": "0DpNAMCftS5Y",
        "outputId": "076d675e-058c-47fe-f10b-d8364c245c8c"
      },
      "id": "0DpNAMCftS5Y",
      "execution_count": 21,
      "outputs": [
        {
          "output_type": "display_data",
          "data": {
            "text/plain": [
              "<Figure size 640x480 with 1 Axes>"
            ],
            "image/png": "[encoded data removed]"
          },
          "metadata": {}
        }
      ]
    },
    {
      "cell_type": "code",
      "source": [
        "prof_ay_df = income_df[income_df['Job Title'] == 'POSTDOC-EMPLOYEE']\n",
        "plt.hist(prof_ay_df['Income'], bins=20, color='red', edgecolor='black')\n",
        "plt.title('Income Distribution for Postdoc Scholars')\n",
        "plt.xlabel('Income')\n",
        "plt.ylabel('Frequency')\n",
        "plt.show()"
      ],
      "metadata": {
        "colab": {
          "base_uri": "https://localhost:8080/",
          "height": 472
        },
        "id": "LSqpOGAdqnFn",
        "outputId": "8546f648-c695-4471-9390-22bf521882fc"
      },
      "id": "LSqpOGAdqnFn",
      "execution_count": 22,
      "outputs": [
        {
          "output_type": "display_data",
          "data": {
            "text/plain": [
              "<Figure size 640x480 with 1 Axes>"
            ],
            "image/png": "[encoded data removed]"
          },
          "metadata": {}
        }
      ]
    },
    {
      "cell_type": "markdown",
      "source": [
        "The income distribution for tenured professors is very wide and the range is around \\$500K. The mode seems to be around \\$150K. This could be due to the fact that a tenured professor's income depends on a lot of factors, such as their length of tenure, years of experience, as well as their quality and quantity of research and teaching.\n",
        "\n",
        "For university extension teachers, their income distribution is heavily skewed to the left, with the vast majority earning less than \\$25K. This may be because extension classes last a shorter time and many of the classes are held online through Zoom.\n",
        "\n",
        "The income distribution for postdoc scholars is interesting, since there are a wide variety of postdocs earning a range from \\$0 to \\$60K. After that, the distribution heavily tapers off, with not many postdocs earning more than \\$60K and even fewer earning more than \\$70K."
      ],
      "metadata": {
        "id": "ALo0K76wtjGp"
      },
      "id": "ALo0K76wtjGp"
    },
    {
      "cell_type": "code",
      "source": [],
      "metadata": {
        "id": "2ndekBJ8wtX2"
      },
      "id": "2ndekBJ8wtX2",
      "execution_count": null,
      "outputs": []
    }
  ],
  "metadata": {
    "kernelspec": {
      "display_name": "Python 3 (ipykernel)",
      "language": "python",
      "name": "python3"
    },
    "language_info": {
      "codemirror_mode": {
        "name": "ipython",
        "version": 3
      },
      "file_extension": ".py",
      "mimetype": "text/x-python",
      "name": "python",
      "nbconvert_exporter": "python",
      "pygments_lexer": "ipython3",
      "version": "3.9.7"
    },
    "colab": {
      "provenance": []
    }
  },
  "nbformat": 4,
  "nbformat_minor": 5
}